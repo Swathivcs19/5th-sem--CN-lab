{
 "cells": [
  {
   "cell_type": "markdown",
   "metadata": {
    "papermill": {
     "duration": 0.008617,
     "end_time": "2020-11-27T05:05:57.537606",
     "exception": false,
     "start_time": "2020-11-27T05:05:57.528989",
     "status": "completed"
    },
    "tags": []
   },
   "source": [
    "# Distance Vector Algorithm"
   ]
  },
  {
   "cell_type": "markdown",
   "metadata": {
    "papermill": {
     "duration": 0.006794,
     "end_time": "2020-11-27T05:05:57.554191",
     "exception": false,
     "start_time": "2020-11-27T05:05:57.547397",
     "status": "completed"
    },
    "tags": []
   },
   "source": [
    "# Network Topology"
   ]
  },
  {
   "cell_type": "code",
   "execution_count": 1,
   "metadata": {
    "execution": {
     "iopub.execute_input": "2020-11-27T05:05:57.588535Z",
     "iopub.status.busy": "2020-11-27T05:05:57.582130Z",
     "iopub.status.idle": "2020-11-27T05:05:57.592395Z",
     "shell.execute_reply": "2020-11-27T05:05:57.591645Z"
    },
    "papermill": {
     "duration": 0.031423,
     "end_time": "2020-11-27T05:05:57.592524",
     "exception": false,
     "start_time": "2020-11-27T05:05:57.561101",
     "status": "completed"
    },
    "tags": []
   },
   "outputs": [],
   "source": [
    "class Topology:\n",
    "    \n",
    "    def __init__(self, array_of_points):\n",
    "        self.nodes = array_of_points\n",
    "        self.edges = []\n",
    " \n",
    "    def add_direct_connection(self, p1, p2, cost):\n",
    "        self.edges.append((p1, p2, cost))\n",
    "        self.edges.append((p2, p1, cost))\n",
    "    \n",
    "    def distance_vector_routing(self):\n",
    "        import collections\n",
    "        for node in self.nodes:\n",
    "            dist = collections.defaultdict(int)\n",
    "            next_hop = {node: node}\n",
    "            for other_node in self.nodes:\n",
    "                if other_node != node:\n",
    "                    dist[other_node] = 100000000 # infinity\n",
    "                \n",
    "            # Bellman Ford Algorithm\n",
    "            for i in range(len(self.nodes)-1):\n",
    "                for edge in self.edges:\n",
    "                    src, dest, cost = edge\n",
    "                    if dist[src] + cost < dist[dest]:\n",
    "                        dist[dest] = dist[src] + cost\n",
    "                        if src == node:\n",
    "                            next_hop[dest] =dest\n",
    "                        elif src in next_hop:\n",
    "                            next_hop[dest] = next_hop[src]\n",
    "            \n",
    "            self.print_routing_table(node, dist, next_hop)\n",
    "            print()\n",
    "            \n",
    "    def print_routing_table(self, node, dist, next_hop):\n",
    "        print(f'Routing table for {node}:')\n",
    "        print('Dest \\t Cost \\t Next Hop')\n",
    "        for dest, cost in dist.items():\n",
    "            print(f'{dest} \\t {cost} \\t {next_hop[dest]}')\n",
    "    \n",
    "    def start(self):\n",
    "        pass\n"
   ]
  },
  {
   "cell_type": "markdown",
   "metadata": {
    "papermill": {
     "duration": 0.007033,
     "end_time": "2020-11-27T05:05:57.607247",
     "exception": false,
     "start_time": "2020-11-27T05:05:57.600214",
     "status": "completed"
    },
    "tags": []
   },
   "source": [
    "# Create the Topology"
   ]
  },
  {
   "cell_type": "code",
   "execution_count": 2,
   "metadata": {
    "execution": {
     "iopub.execute_input": "2020-11-27T05:05:57.631791Z",
     "iopub.status.busy": "2020-11-27T05:05:57.630608Z",
     "iopub.status.idle": "2020-11-27T05:05:57.640801Z",
     "shell.execute_reply": "2020-11-27T05:05:57.639797Z"
    },
    "papermill": {
     "duration": 0.026421,
     "end_time": "2020-11-27T05:05:57.640979",
     "exception": false,
     "start_time": "2020-11-27T05:05:57.614558",
     "status": "completed"
    },
    "tags": []
   },
   "outputs": [
    {
     "name": "stdout",
     "output_type": "stream",
     "text": [
      "Routing table for A:\n",
      "Dest \t Cost \t Next Hop\n",
      "B \t 1 \t B\n",
      "C \t 4 \t B\n",
      "D \t 8 \t B\n",
      "E \t 10 \t B\n",
      "A \t 0 \t A\n",
      "\n",
      "Routing table for B:\n",
      "Dest \t Cost \t Next Hop\n",
      "A \t 1 \t A\n",
      "C \t 3 \t C\n",
      "D \t 7 \t C\n",
      "E \t 9 \t E\n",
      "B \t 0 \t B\n",
      "\n",
      "Routing table for C:\n",
      "Dest \t Cost \t Next Hop\n",
      "A \t 4 \t B\n",
      "B \t 3 \t B\n",
      "D \t 4 \t D\n",
      "E \t 6 \t D\n",
      "C \t 0 \t C\n",
      "\n",
      "Routing table for D:\n",
      "Dest \t Cost \t Next Hop\n",
      "A \t 8 \t C\n",
      "B \t 7 \t C\n",
      "C \t 4 \t C\n",
      "E \t 2 \t E\n",
      "D \t 0 \t D\n",
      "\n",
      "Routing table for E:\n",
      "Dest \t Cost \t Next Hop\n",
      "A \t 10 \t B\n",
      "B \t 9 \t B\n",
      "C \t 6 \t D\n",
      "D \t 2 \t D\n",
      "E \t 0 \t E\n",
      "\n"
     ]
    }
   ],
   "source": [
    "nodes = ['A', 'B', 'C', 'D', 'E']\n",
    "\n",
    "t = Topology(nodes)\n",
    "\n",
    "t.add_direct_connection('A', 'B', 1)\n",
    "t.add_direct_connection('A', 'C', 5)\n",
    "t.add_direct_connection('B', 'C', 3)\n",
    "t.add_direct_connection('B', 'E', 9)\n",
    "t.add_direct_connection('C', 'D', 4)\n",
    "t.add_direct_connection('D', 'E', 2)\n",
    "\n",
    "t.distance_vector_routing()"
   ]
  },
  {
   "cell_type": "markdown",
   "metadata": {
    "papermill": {
     "duration": 0.007891,
     "end_time": "2020-11-27T05:05:57.657794",
     "exception": false,
     "start_time": "2020-11-27T05:05:57.649903",
     "status": "completed"
    },
    "tags": []
   },
   "source": [
    "### Start"
   ]
  },
  {
   "cell_type": "code",
   "execution_count": 3,
   "metadata": {
    "execution": {
     "iopub.execute_input": "2020-11-27T05:05:57.683525Z",
     "iopub.status.busy": "2020-11-27T05:05:57.682384Z",
     "iopub.status.idle": "2020-11-27T05:05:57.723724Z",
     "shell.execute_reply": "2020-11-27T05:05:57.723048Z"
    },
    "papermill": {
     "duration": 0.058131,
     "end_time": "2020-11-27T05:05:57.723870",
     "exception": false,
     "start_time": "2020-11-27T05:05:57.665739",
     "status": "completed"
    },
    "tags": []
   },
   "outputs": [
    {
     "ename": "StdinNotImplementedError",
     "evalue": "raw_input was called, but this frontend does not support input requests.",
     "output_type": "error",
     "traceback": [
      "\u001b[0;31m---------------------------------------------------------------------------\u001b[0m",
      "\u001b[0;31mStdinNotImplementedError\u001b[0m                  Traceback (most recent call last)",
      "\u001b[0;32m<ipython-input-3-baceb4aa0c2b>\u001b[0m in \u001b[0;36m<module>\u001b[0;34m\u001b[0m\n\u001b[0;32m----> 1\u001b[0;31m \u001b[0mnodes\u001b[0m \u001b[0;34m=\u001b[0m \u001b[0minput\u001b[0m\u001b[0;34m(\u001b[0m\u001b[0;34m'Enter the nodes: '\u001b[0m\u001b[0;34m)\u001b[0m\u001b[0;34m.\u001b[0m\u001b[0msplit\u001b[0m\u001b[0;34m(\u001b[0m\u001b[0;34m)\u001b[0m\u001b[0;34m\u001b[0m\u001b[0;34m\u001b[0m\u001b[0m\n\u001b[0m\u001b[1;32m      2\u001b[0m \u001b[0;34m\u001b[0m\u001b[0m\n\u001b[1;32m      3\u001b[0m \u001b[0mt\u001b[0m \u001b[0;34m=\u001b[0m \u001b[0mTopology\u001b[0m\u001b[0;34m(\u001b[0m\u001b[0mnodes\u001b[0m\u001b[0;34m)\u001b[0m\u001b[0;34m\u001b[0m\u001b[0;34m\u001b[0m\u001b[0m\n\u001b[1;32m      4\u001b[0m \u001b[0;34m\u001b[0m\u001b[0m\n\u001b[1;32m      5\u001b[0m \u001b[0medges\u001b[0m \u001b[0;34m=\u001b[0m \u001b[0mint\u001b[0m\u001b[0;34m(\u001b[0m\u001b[0minput\u001b[0m\u001b[0;34m(\u001b[0m\u001b[0;34m'Enter the number of connections: '\u001b[0m\u001b[0;34m)\u001b[0m\u001b[0;34m)\u001b[0m\u001b[0;34m\u001b[0m\u001b[0;34m\u001b[0m\u001b[0m\n",
      "\u001b[0;32m/opt/conda/lib/python3.7/site-packages/ipykernel/kernelbase.py\u001b[0m in \u001b[0;36mraw_input\u001b[0;34m(self, prompt)\u001b[0m\n\u001b[1;32m    853\u001b[0m         \u001b[0;32mif\u001b[0m \u001b[0;32mnot\u001b[0m \u001b[0mself\u001b[0m\u001b[0;34m.\u001b[0m\u001b[0m_allow_stdin\u001b[0m\u001b[0;34m:\u001b[0m\u001b[0;34m\u001b[0m\u001b[0;34m\u001b[0m\u001b[0m\n\u001b[1;32m    854\u001b[0m             raise StdinNotImplementedError(\n\u001b[0;32m--> 855\u001b[0;31m                 \u001b[0;34m\"raw_input was called, but this frontend does not support input requests.\"\u001b[0m\u001b[0;34m\u001b[0m\u001b[0;34m\u001b[0m\u001b[0m\n\u001b[0m\u001b[1;32m    856\u001b[0m             )\n\u001b[1;32m    857\u001b[0m         return self._input_request(str(prompt),\n",
      "\u001b[0;31mStdinNotImplementedError\u001b[0m: raw_input was called, but this frontend does not support input requests."
     ]
    }
   ],
   "source": [
    "nodes = input('Enter the nodes: ').split()\n",
    "\n",
    "t = Topology(nodes)\n",
    "\n",
    "edges = int(input('Enter the number of connections: '))\n",
    "for _ in range(edges):\n",
    "    src, dest, cost = input('Enter [src] [dest] [cost]: ').split()\n",
    "    t.add_direct_connection(src, dest, int(cost))\n",
    "    \n",
    "t.distance_vector_routing()"
   ]
  }
 ],
 "metadata": {
  "kernelspec": {
   "display_name": "Python 3",
   "language": "python",
   "name": "python3"
  },
  "language_info": {
   "codemirror_mode": {
    "name": "ipython",
    "version": 3
   },
   "file_extension": ".py",
   "mimetype": "text/x-python",
   "name": "python",
   "nbconvert_exporter": "python",
   "pygments_lexer": "ipython3",
   "version": "3.7.6"
  },
  "papermill": {
   "duration": 5.243967,
   "end_time": "2020-11-27T05:05:57.839794",
   "environment_variables": {},
   "exception": null,
   "input_path": "__notebook__.ipynb",
   "output_path": "__notebook__.ipynb",
   "parameters": {},
   "start_time": "2020-11-27T05:05:52.595827",
   "version": "2.1.0"
  }
 },
 "nbformat": 4,
 "nbformat_minor": 4
}
